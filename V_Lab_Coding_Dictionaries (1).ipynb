{
 "cells": [
  {
   "cell_type": "markdown",
   "metadata": {},
   "source": [
    "<h1>Dictionaries Lab</h1>"
   ]
  },
  {
   "cell_type": "markdown",
   "metadata": {},
   "source": [
    "<h3>Problem 1</h3>\n",
    "Using what you've learned up to this point in the module, write Python code in the cell below that will allow a hospital ward to check if a specific visitor is allowed for patient in a particular room. Use the provided dictionary to perform a room number lookup and then check the associated list of names for the visitor. If the vistor's name appears in the list of names authorized for the room, indicate this by printing _AUTHOERIZED_, otherwise printing _DENIED_. Allow the usee to continue to input a room number, an integer, (and then the visitor's name, ignoring case) until the user enters a negative number for the room. If the room number is not found in the dictionary, print an error message and allow the user to try again. A sample run's output is shown below:\n",
    "<pre>\n",
    "Enter room number (neg # to stop):  102\n",
    "Enter visitor name: Janet Brown\n",
    "AUTHORIZED\n",
    "Enter room number (neg # to stop):  102\n",
    "Enter visitor name: marcus\n",
    "DENIED\n",
    "Enter room number (neg # to stop):  105\n",
    "Room not found, try again!\n",
    "Enter room number (neg # to stop):  -1\n",
    "</pre>"
   ]
  },
  {
   "cell_type": "code",
   "execution_count": 110,
   "metadata": {},
   "outputs": [
    {
     "name": "stdout",
     "output_type": "stream",
     "text": [
      "Enter a room number (neg # to stop): 109\n",
      "Room not found, try again!\n",
      "Enter a room number (neg # to stop): 101\n",
      "Enter visitor name: john smith\n",
      "AUTHORIZED\n",
      "Enter a room number (neg # to stop): 102\n",
      "Enter visitor name: Marcus Doe\n",
      "AUTHORIZED\n",
      "Enter a room number (neg # to stop): -5\n"
     ]
    }
   ],
   "source": [
    "# Put answer here\n",
    "auth_room_visitors = {101 : ['john smith', 'jan smith'], 102 : ['janet brown', 'marcus doe'], 103 : ['kim arnold', 'bill wen']}\n",
    "while True:\n",
    "    rm_num = input(\"Enter a room number (neg # to stop): \")\n",
    "    rm_num = int(rm_num)\n",
    "    if rm_num < 0:\n",
    "        break\n",
    "    if rm_num in auth_room_visitors:\n",
    "        visit_name = input(\"Enter visitor name: \")\n",
    "        visit_name = visit_name.lower()\n",
    "        if (visit_name) in auth_room_visitors[rm_num]:\n",
    "            print(\"AUTHORIZED\")\n",
    "        else:\n",
    "            print(\"DENIED\")\n",
    "    else:\n",
    "        print(\"Room not found, try again!\")"
   ]
  }
 ],
 "metadata": {
  "kernelspec": {
   "display_name": "Python 3",
   "language": "python",
   "name": "python3"
  },
  "language_info": {
   "codemirror_mode": {
    "name": "ipython",
    "version": 3
   },
   "file_extension": ".py",
   "mimetype": "text/x-python",
   "name": "python",
   "nbconvert_exporter": "python",
   "pygments_lexer": "ipython3",
   "version": "3.8.8"
  }
 },
 "nbformat": 4,
 "nbformat_minor": 4
}
